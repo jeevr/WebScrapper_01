{
    "metadata": {
        "kernelspec": {
            "name": "python3",
            "display_name": "Python 3 (ipykernel)",
            "language": "python"
        },
        "language_info": {
            "name": "python",
            "version": "3.10.6",
            "mimetype": "text/x-python",
            "codemirror_mode": {
                "name": "ipython",
                "version": 3
            },
            "pygments_lexer": "ipython3",
            "nbconvert_exporter": "python",
            "file_extension": ".py"
        }
    },
    "nbformat_minor": 2,
    "nbformat": 4,
    "cells": [
        {
            "cell_type": "code",
            "source": [
                "from selenium import webdriver\r\n",
                "import time\r\n",
                "\r\n",
                "# Set Chrome webdriver options\r\n",
                "options = webdriver.ChromeOptions()\r\n",
                "options.add_argument(\"--start-maximized\")\r\n",
                "options.add_argument(\"--disable-notifications\")\r\n",
                "options.add_argument(\"--disable-infobars\")\r\n",
                "options.add_argument(\"--disable-extensions\")\r\n",
                "\r\n",
                "# Set download directory and preferences\r\n",
                "prefs = {\r\n",
                "    \"download.default_directory\": \"/Downloads\",\r\n",
                "    \"download.prompt_for_download\": False,\r\n",
                "    \"download.directory_upgrade\": True,\r\n",
                "    \"safebrowsing.enabled\": True\r\n",
                "}\r\n",
                "options.add_experimental_option(\"prefs\", prefs)\r\n",
                "\r\n",
                "# Start Chrome webdriver\r\n",
                "driver = webdriver.Chrome(options=options)\r\n",
                "\r\n",
                "# Navigate to webpage\r\n",
                "driver.get(\"https://jobs.homesteadstudio.co/data-engineer/assessment/download/\")\r\n",
                "\r\n",
                "# Find download button element and click it\r\n",
                "download_button = driver.find_element('xpath', \"//*[@id='post-252']/div/div/div/a\")\r\n",
                "download_button.click()\r\n",
                "\r\n",
                "# Wait for download to complete\r\n",
                "time.sleep(10)\r\n",
                "\r\n",
                "# Close the webdriver\r\n",
                "driver.quit()\r\n",
                ""
            ],
            "metadata": {
                "azdata_cell_guid": "3187863a-3c4e-40d7-89f0-1b13e4c7feea",
                "language": "python"
            },
            "outputs": [],
            "execution_count": 5
        }
    ]
}