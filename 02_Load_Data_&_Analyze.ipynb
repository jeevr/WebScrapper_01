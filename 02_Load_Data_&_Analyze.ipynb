{
    "metadata": {
        "kernelspec": {
            "name": "python3",
            "display_name": "Python 3 (ipykernel)",
            "language": "python"
        },
        "language_info": {
            "name": "python",
            "version": "3.10.6",
            "mimetype": "text/x-python",
            "codemirror_mode": {
                "name": "ipython",
                "version": 3
            },
            "pygments_lexer": "ipython3",
            "nbconvert_exporter": "python",
            "file_extension": ".py"
        }
    },
    "nbformat_minor": 2,
    "nbformat": 4,
    "cells": [
        {
            "cell_type": "code",
            "source": [
                "import pandas as pd\r\n",
                "import sqlite3\r\n",
                "\r\n",
                "# Read Excel file into DataFrame\r\n",
                "df = pd.read_excel(r'C:\\Users\\Jay Mevil\\Downloads\\DataEngineerTest\\skill_test_data.xlsx', sheet_name = 'data')\r\n",
                "\r\n",
                ""
            ],
            "metadata": {
                "azdata_cell_guid": "f4ff940b-f544-4e5d-b530-a3ecbf5264d8",
                "language": "python"
            },
            "outputs": [],
            "execution_count": 22
        },
        {
            "cell_type": "code",
            "source": [
                "df.head(3)"
            ],
            "metadata": {
                "language": "python",
                "azdata_cell_guid": "c85ca968-7643-4c2e-b07e-c209f509e77e"
            },
            "outputs": [
                {
                    "data": {
                        "text/plain": "        Date Platform (Northbeam)                            Name  Status  \\\n0 2022-11-26         Facebook Ads  02_Prospecting_$LC_Testing_ABO  Active   \n1 2022-11-27         Facebook Ads  02_Prospecting_$LC_Testing_ABO  Active   \n2 2022-11-28         Facebook Ads  02_Prospecting_$LC_Testing_ABO  Active   \n\n  Medium Source   Spend  Attributed Rev (1d)  LTV Attributed Rev  \\\n0    NaN    NaN  517.53              342.425             342.425   \n1    NaN    NaN  555.82              207.220             345.700   \n2    NaN    NaN  540.56              263.970             263.970   \n\n   Forecasted Attributed Rev (30d)  ...  LTV Transactions  \\\n0                       342.904505  ...              2.75   \n1                       346.402255  ...              2.50   \n2                       265.556109  ...              1.50   \n\n   Forecasted Attributed Transactions (30d)  \\\n0                                  2.753759   \n1                                  2.504960   \n2                                  1.510491   \n\n   Forecasted Attributed Transactions (60d)  \\\n0                                  2.797963   \n1                                  2.545530   \n2                                  1.548336   \n\n   Forecasted Attributed Transactions (90d)  Email Signups (1d)  \\\n0                                  2.817787                 8.0   \n1                                  2.563725                 7.5   \n2                                  1.565310                 2.0   \n\n   LTV Email Signups  Email Signup Rate (1d)  LTV Email Signup Rate  \\\n0                8.0                0.065574               0.065574   \n1                7.5                0.065789               0.065789   \n2                2.0                0.017699               0.017699   \n\n   Cost per Email Signup (1d)  LTV Cost per Email Signup  \n0                   64.691250                  64.691250  \n1                   74.109333                  74.109333  \n2                  270.280000                 270.280000  \n\n[3 rows x 38 columns]",
                        "text/html": "<div>\n<style scoped>\n    .dataframe tbody tr th:only-of-type {\n        vertical-align: middle;\n    }\n\n    .dataframe tbody tr th {\n        vertical-align: top;\n    }\n\n    .dataframe thead th {\n        text-align: right;\n    }\n</style>\n<table border=\"1\" class=\"dataframe\">\n  <thead>\n    <tr style=\"text-align: right;\">\n      <th></th>\n      <th>Date</th>\n      <th>Platform (Northbeam)</th>\n      <th>Name</th>\n      <th>Status</th>\n      <th>Medium</th>\n      <th>Source</th>\n      <th>Spend</th>\n      <th>Attributed Rev (1d)</th>\n      <th>LTV Attributed Rev</th>\n      <th>Forecasted Attributed Rev (30d)</th>\n      <th>...</th>\n      <th>LTV Transactions</th>\n      <th>Forecasted Attributed Transactions (30d)</th>\n      <th>Forecasted Attributed Transactions (60d)</th>\n      <th>Forecasted Attributed Transactions (90d)</th>\n      <th>Email Signups (1d)</th>\n      <th>LTV Email Signups</th>\n      <th>Email Signup Rate (1d)</th>\n      <th>LTV Email Signup Rate</th>\n      <th>Cost per Email Signup (1d)</th>\n      <th>LTV Cost per Email Signup</th>\n    </tr>\n  </thead>\n  <tbody>\n    <tr>\n      <th>0</th>\n      <td>2022-11-26</td>\n      <td>Facebook Ads</td>\n      <td>02_Prospecting_$LC_Testing_ABO</td>\n      <td>Active</td>\n      <td>NaN</td>\n      <td>NaN</td>\n      <td>517.53</td>\n      <td>342.425</td>\n      <td>342.425</td>\n      <td>342.904505</td>\n      <td>...</td>\n      <td>2.75</td>\n      <td>2.753759</td>\n      <td>2.797963</td>\n      <td>2.817787</td>\n      <td>8.0</td>\n      <td>8.0</td>\n      <td>0.065574</td>\n      <td>0.065574</td>\n      <td>64.691250</td>\n      <td>64.691250</td>\n    </tr>\n    <tr>\n      <th>1</th>\n      <td>2022-11-27</td>\n      <td>Facebook Ads</td>\n      <td>02_Prospecting_$LC_Testing_ABO</td>\n      <td>Active</td>\n      <td>NaN</td>\n      <td>NaN</td>\n      <td>555.82</td>\n      <td>207.220</td>\n      <td>345.700</td>\n      <td>346.402255</td>\n      <td>...</td>\n      <td>2.50</td>\n      <td>2.504960</td>\n      <td>2.545530</td>\n      <td>2.563725</td>\n      <td>7.5</td>\n      <td>7.5</td>\n      <td>0.065789</td>\n      <td>0.065789</td>\n      <td>74.109333</td>\n      <td>74.109333</td>\n    </tr>\n    <tr>\n      <th>2</th>\n      <td>2022-11-28</td>\n      <td>Facebook Ads</td>\n      <td>02_Prospecting_$LC_Testing_ABO</td>\n      <td>Active</td>\n      <td>NaN</td>\n      <td>NaN</td>\n      <td>540.56</td>\n      <td>263.970</td>\n      <td>263.970</td>\n      <td>265.556109</td>\n      <td>...</td>\n      <td>1.50</td>\n      <td>1.510491</td>\n      <td>1.548336</td>\n      <td>1.565310</td>\n      <td>2.0</td>\n      <td>2.0</td>\n      <td>0.017699</td>\n      <td>0.017699</td>\n      <td>270.280000</td>\n      <td>270.280000</td>\n    </tr>\n  </tbody>\n</table>\n<p>3 rows × 38 columns</p>\n</div>"
                    },
                    "metadata": {},
                    "execution_count": 19,
                    "output_type": "execute_result"
                }
            ],
            "execution_count": 19
        },
        {
            "cell_type": "code",
            "source": [
                "df.columns"
            ],
            "metadata": {
                "language": "python",
                "azdata_cell_guid": "6e178406-1eed-458c-9cc4-63e7d6c97a12"
            },
            "outputs": [
                {
                    "data": {
                        "text/plain": "Index(['Date', 'Platform (Northbeam)', 'Name', 'Status', 'Medium', 'Source',\n       'Spend', 'Attributed Rev (1d)', 'LTV Attributed Rev',\n       'Forecasted Attributed Rev (30d)', 'Forecasted Attributed Rev (60d)',\n       'Forecasted Attributed Rev (90d)', 'ROAS (1d)', 'LTV ROAS',\n       'Forecasted ROAS (30d)', 'Forecasted ROAS (60d)',\n       'Forecasted ROAS (90d)', 'Imprs', 'CTR', 'Visits', 'New Visits', 'eCPC',\n       'CPM', 'ECR (1d)', 'LTV ECR', 'CAC (1d)', 'LTV CAC',\n       'Transactions (1d)', 'LTV Transactions',\n       'Forecasted Attributed Transactions (30d)',\n       'Forecasted Attributed Transactions (60d)',\n       'Forecasted Attributed Transactions (90d)', 'Email Signups (1d)',\n       'LTV Email Signups', 'Email Signup Rate (1d)', 'LTV Email Signup Rate',\n       'Cost per Email Signup (1d)', 'LTV Cost per Email Signup'],\n      dtype='object')"
                    },
                    "metadata": {},
                    "execution_count": 20,
                    "output_type": "execute_result"
                }
            ],
            "execution_count": 20
        },
        {
            "cell_type": "code",
            "source": [
                "\r\n",
                "# Pivot DataFrame into summarized report\r\n",
                "pivot_table = pd.pivot_table(df, \r\n",
                "                             index=['Platform (Northbeam)'], \r\n",
                "                             values=['Spend','Attributed Rev (1d)','Imprs','Visits','New Visits','Transactions (1d)','Email Signups (1d)'], \r\n",
                "                             aggfunc={'Spend':'sum','Attributed Rev (1d)':'sum','Imprs':'sum','Visits':'sum','New Visits':'sum','Transactions (1d)':'sum','Email Signups (1d)':'sum'}, \r\n",
                "                             fill_value=0,\r\n",
                "                             )\r\n",
                "\r\n",
                "# Sort the pivot table by the 'Date' column in ascending order\r\n",
                "pivot_table = pivot_table.sort_values('Attributed Rev (1d)', ascending=False)\r\n",
                "# Print summarized report\r\n",
                "pivot_table"
            ],
            "metadata": {
                "language": "python",
                "azdata_cell_guid": "06cfde9d-2870-4967-9dbd-45d151a25259"
            },
            "outputs": [
                {
                    "data": {
                        "text/plain": "                      Attributed Rev (1d)  Email Signups (1d)    Imprs  \\\nPlatform (Northbeam)                                                     \nGoogle Ads                   9.044841e+04          774.245418  1476413   \nFacebook Ads                 4.987223e+04          799.209524  1225850   \nOrganic                      4.505668e+04          303.238299        0   \nOrganic Search               2.447903e+04          269.623016        0   \nUnattributed                 4.860460e+03           36.000000        0   \nInstagram Organic            2.614293e+03           53.750000        0   \nOther                        2.205548e+03           21.950000        0   \nOther Email                  1.521822e+03            3.000000        0   \nTikTok                       1.360636e+03           21.283333    58796   \nFacebook Organic             1.231290e+03           34.700000        0   \nYouTube Organic              4.508300e+02           13.000000        0   \nSMSBump                      2.960400e+02            5.166667        0   \nTransactional                1.363270e+02            1.000000        0   \nKlaviyo                      8.485000e+01            0.000000        0   \nDiscount Site                5.983233e+01            0.100000        0   \nYotpo                        1.359600e-23            0.000000        0   \nLinkedIn Ads                 0.000000e+00            0.000000        0   \nPinterest                    0.000000e+00            0.000000        0   \nReddit                       0.000000e+00            0.000000        0   \nSnapchat Ads                 0.000000e+00            0.000000        0   \nLinkTree                     0.000000e+00            8.000000        0   \nTwitter                      0.000000e+00            0.000000        0   \n\n                      New Visits       Spend  Transactions (1d)  Visits  \nPlatform (Northbeam)                                                     \nGoogle Ads                 11927  28228.1000       5.910878e+02   16391  \nFacebook Ads               13864  30073.4242       3.143456e+02   18298  \nOrganic                     9741      0.0000       3.428705e+02   24377  \nOrganic Search              4160      0.0000       1.630339e+02    5575  \nUnattributed                   0      0.0000       5.800000e+01       0  \nInstagram Organic            454      0.0000       1.703333e+01     557  \nOther                        365      0.0000       2.817619e+01     643  \nOther Email                  138      0.0000       1.320238e+01     435  \nTikTok                       269   1108.4500       8.259524e+00     526  \nFacebook Organic             460      0.0000       7.833333e+00     544  \nYouTube Organic              142      0.0000       3.000000e+00     156  \nSMSBump                       19      0.0000       2.000000e+00      57  \nTransactional                 18      0.0000       7.250000e-01      43  \nKlaviyo                        7      0.0000       5.000000e-01      10  \nDiscount Site                 24      0.0000       4.333333e-01      36  \nYotpo                          8      0.0000       1.000000e-25      17  \nLinkedIn Ads                   2      0.0000       0.000000e+00       2  \nPinterest                     23      0.0000       0.000000e+00      27  \nReddit                        37      0.0000       0.000000e+00      37  \nSnapchat Ads                   2      0.0000       0.000000e+00       3  \nLinkTree                     286      0.0000       0.000000e+00     294  \nTwitter                        7      0.0000       0.000000e+00       8  ",
                        "text/html": "<div>\n<style scoped>\n    .dataframe tbody tr th:only-of-type {\n        vertical-align: middle;\n    }\n\n    .dataframe tbody tr th {\n        vertical-align: top;\n    }\n\n    .dataframe thead th {\n        text-align: right;\n    }\n</style>\n<table border=\"1\" class=\"dataframe\">\n  <thead>\n    <tr style=\"text-align: right;\">\n      <th></th>\n      <th>Attributed Rev (1d)</th>\n      <th>Email Signups (1d)</th>\n      <th>Imprs</th>\n      <th>New Visits</th>\n      <th>Spend</th>\n      <th>Transactions (1d)</th>\n      <th>Visits</th>\n    </tr>\n    <tr>\n      <th>Platform (Northbeam)</th>\n      <th></th>\n      <th></th>\n      <th></th>\n      <th></th>\n      <th></th>\n      <th></th>\n      <th></th>\n    </tr>\n  </thead>\n  <tbody>\n    <tr>\n      <th>Google Ads</th>\n      <td>9.044841e+04</td>\n      <td>774.245418</td>\n      <td>1476413</td>\n      <td>11927</td>\n      <td>28228.1000</td>\n      <td>5.910878e+02</td>\n      <td>16391</td>\n    </tr>\n    <tr>\n      <th>Facebook Ads</th>\n      <td>4.987223e+04</td>\n      <td>799.209524</td>\n      <td>1225850</td>\n      <td>13864</td>\n      <td>30073.4242</td>\n      <td>3.143456e+02</td>\n      <td>18298</td>\n    </tr>\n    <tr>\n      <th>Organic</th>\n      <td>4.505668e+04</td>\n      <td>303.238299</td>\n      <td>0</td>\n      <td>9741</td>\n      <td>0.0000</td>\n      <td>3.428705e+02</td>\n      <td>24377</td>\n    </tr>\n    <tr>\n      <th>Organic Search</th>\n      <td>2.447903e+04</td>\n      <td>269.623016</td>\n      <td>0</td>\n      <td>4160</td>\n      <td>0.0000</td>\n      <td>1.630339e+02</td>\n      <td>5575</td>\n    </tr>\n    <tr>\n      <th>Unattributed</th>\n      <td>4.860460e+03</td>\n      <td>36.000000</td>\n      <td>0</td>\n      <td>0</td>\n      <td>0.0000</td>\n      <td>5.800000e+01</td>\n      <td>0</td>\n    </tr>\n    <tr>\n      <th>Instagram Organic</th>\n      <td>2.614293e+03</td>\n      <td>53.750000</td>\n      <td>0</td>\n      <td>454</td>\n      <td>0.0000</td>\n      <td>1.703333e+01</td>\n      <td>557</td>\n    </tr>\n    <tr>\n      <th>Other</th>\n      <td>2.205548e+03</td>\n      <td>21.950000</td>\n      <td>0</td>\n      <td>365</td>\n      <td>0.0000</td>\n      <td>2.817619e+01</td>\n      <td>643</td>\n    </tr>\n    <tr>\n      <th>Other Email</th>\n      <td>1.521822e+03</td>\n      <td>3.000000</td>\n      <td>0</td>\n      <td>138</td>\n      <td>0.0000</td>\n      <td>1.320238e+01</td>\n      <td>435</td>\n    </tr>\n    <tr>\n      <th>TikTok</th>\n      <td>1.360636e+03</td>\n      <td>21.283333</td>\n      <td>58796</td>\n      <td>269</td>\n      <td>1108.4500</td>\n      <td>8.259524e+00</td>\n      <td>526</td>\n    </tr>\n    <tr>\n      <th>Facebook Organic</th>\n      <td>1.231290e+03</td>\n      <td>34.700000</td>\n      <td>0</td>\n      <td>460</td>\n      <td>0.0000</td>\n      <td>7.833333e+00</td>\n      <td>544</td>\n    </tr>\n    <tr>\n      <th>YouTube Organic</th>\n      <td>4.508300e+02</td>\n      <td>13.000000</td>\n      <td>0</td>\n      <td>142</td>\n      <td>0.0000</td>\n      <td>3.000000e+00</td>\n      <td>156</td>\n    </tr>\n    <tr>\n      <th>SMSBump</th>\n      <td>2.960400e+02</td>\n      <td>5.166667</td>\n      <td>0</td>\n      <td>19</td>\n      <td>0.0000</td>\n      <td>2.000000e+00</td>\n      <td>57</td>\n    </tr>\n    <tr>\n      <th>Transactional</th>\n      <td>1.363270e+02</td>\n      <td>1.000000</td>\n      <td>0</td>\n      <td>18</td>\n      <td>0.0000</td>\n      <td>7.250000e-01</td>\n      <td>43</td>\n    </tr>\n    <tr>\n      <th>Klaviyo</th>\n      <td>8.485000e+01</td>\n      <td>0.000000</td>\n      <td>0</td>\n      <td>7</td>\n      <td>0.0000</td>\n      <td>5.000000e-01</td>\n      <td>10</td>\n    </tr>\n    <tr>\n      <th>Discount Site</th>\n      <td>5.983233e+01</td>\n      <td>0.100000</td>\n      <td>0</td>\n      <td>24</td>\n      <td>0.0000</td>\n      <td>4.333333e-01</td>\n      <td>36</td>\n    </tr>\n    <tr>\n      <th>Yotpo</th>\n      <td>1.359600e-23</td>\n      <td>0.000000</td>\n      <td>0</td>\n      <td>8</td>\n      <td>0.0000</td>\n      <td>1.000000e-25</td>\n      <td>17</td>\n    </tr>\n    <tr>\n      <th>LinkedIn Ads</th>\n      <td>0.000000e+00</td>\n      <td>0.000000</td>\n      <td>0</td>\n      <td>2</td>\n      <td>0.0000</td>\n      <td>0.000000e+00</td>\n      <td>2</td>\n    </tr>\n    <tr>\n      <th>Pinterest</th>\n      <td>0.000000e+00</td>\n      <td>0.000000</td>\n      <td>0</td>\n      <td>23</td>\n      <td>0.0000</td>\n      <td>0.000000e+00</td>\n      <td>27</td>\n    </tr>\n    <tr>\n      <th>Reddit</th>\n      <td>0.000000e+00</td>\n      <td>0.000000</td>\n      <td>0</td>\n      <td>37</td>\n      <td>0.0000</td>\n      <td>0.000000e+00</td>\n      <td>37</td>\n    </tr>\n    <tr>\n      <th>Snapchat Ads</th>\n      <td>0.000000e+00</td>\n      <td>0.000000</td>\n      <td>0</td>\n      <td>2</td>\n      <td>0.0000</td>\n      <td>0.000000e+00</td>\n      <td>3</td>\n    </tr>\n    <tr>\n      <th>LinkTree</th>\n      <td>0.000000e+00</td>\n      <td>8.000000</td>\n      <td>0</td>\n      <td>286</td>\n      <td>0.0000</td>\n      <td>0.000000e+00</td>\n      <td>294</td>\n    </tr>\n    <tr>\n      <th>Twitter</th>\n      <td>0.000000e+00</td>\n      <td>0.000000</td>\n      <td>0</td>\n      <td>7</td>\n      <td>0.0000</td>\n      <td>0.000000e+00</td>\n      <td>8</td>\n    </tr>\n  </tbody>\n</table>\n</div>"
                    },
                    "metadata": {},
                    "execution_count": 21,
                    "output_type": "execute_result"
                }
            ],
            "execution_count": 21
        },
        {
            "cell_type": "code",
            "source": [
                "# Define the path to the SQLite database file\r\n",
                "db_path = r'C:\\Users\\Jay Mevil\\Downloads\\DataEngineerTest\\db_Test.db'\r\n",
                "\r\n",
                "# Create a connection to the SQLite database (creates an empty database file)\r\n",
                "conn = sqlite3.connect(db_path)\r\n",
                "\r\n",
                "# Save pivot table to SQLite database as a table named 'pivot_table'\r\n",
                "pivot_table.to_sql('pivot_table', conn, if_exists='replace', index=True)\r\n",
                "\r\n",
                "# Close database connection\r\n",
                "conn.close()"
            ],
            "metadata": {
                "azdata_cell_guid": "130827d0-6f65-43a1-98f9-0298d6ffc262",
                "language": "python"
            },
            "outputs": [],
            "execution_count": 23
        }
    ]
}